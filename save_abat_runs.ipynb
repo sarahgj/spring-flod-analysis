{
 "cells": [
  {
   "cell_type": "markdown",
   "metadata": {},
   "source": [
    "# THIS CODE SAVES ALL TEMP/REF MODELS FROM SMG INTO CSV FILES IN THE FOLDER TEMP/REF\n",
    "\n",
    "First you need to run the Abat job for HBV_Oppdatering_TEMP:\n",
    "\n",
    "1. Open Abat and the server currently in use.\n",
    "2. Then go through: Jobs, Folders & Plans -> SMGOSL Norway -> HBV -> ClimateLTM \n",
    "3. Right click on HBV-Oppdatering_TEMP and choose Properties.\n",
    "4. Then choose Job Properties. Here you need to change the start date in Parameters, for example to:\n",
    "\n",
    "   \\InflowScriptDebug\\InflowRunTasks.wsf ${ICC_PATH}\\ArbPktIntegrator\\HBV\\Climate-LTM-Oppdatering\\TEMP 01.04.2018 day\n",
    "\n",
    "5. Don't leave because you need to change back to the original after you run the job.\n",
    "6. Trigger the job manually. You can do this any time, but its okay to double check with f.eks Atle.\n",
    "\n",
    "Now that the Temp models are updated in SMG we need to save them, by running this script: Cell -> Run All. wait for it to print 'done'.\n",
    "\n",
    "Finally you need to change the Parameters back, and run again to :\n",
    "\n",
    "    \\InflowScriptDebug\\InflowRunTasks.wsf ${ICC_PATH}\\ArbPktIntegrator\\HBV\\Climate-LTM-Oppdatering\\TEMP day-1 day"
   ]
  },
  {
   "cell_type": "code",
   "execution_count": 7,
   "metadata": {},
   "outputs": [],
   "source": [
    "# choose between: 'REF', 'TEMP1', 'TEMP2'\n",
    "to_save = 'REF' "
   ]
  },
  {
   "cell_type": "code",
   "execution_count": 8,
   "metadata": {
    "scrolled": false
   },
   "outputs": [
    {
     "name": "stdout",
     "output_type": "stream",
     "text": [
      "The autoreload extension is already loaded. To reload it, use:\n",
      "  %reload_ext autoreload\n",
      "Done saving to REF\n"
     ]
    }
   ],
   "source": [
    "import sys\n",
    "\n",
    "path = '\\\\\\\\energycorp\\\\applications\\\\OSL\\\\jupyter_notebooks\\\\personalfolders\\\\MEHO\\\\spring-flod-analysis'\n",
    "sys.path.insert(0, path)\n",
    "\n",
    "import modules as m\n",
    "\n",
    "%load_ext autoreload\n",
    "%autoreload 2\n",
    "\n",
    "m.copy_from_SMG(to_save, file=r'spring_flod_analysis.xlsx')"
   ]
  },
  {
   "cell_type": "code",
   "execution_count": null,
   "metadata": {},
   "outputs": [],
   "source": []
  }
 ],
 "metadata": {
  "kernelspec": {
   "display_name": "Latest",
   "language": "python",
   "name": "latest"
  },
  "language_info": {
   "codemirror_mode": {
    "name": "ipython",
    "version": 3
   },
   "file_extension": ".py",
   "mimetype": "text/x-python",
   "name": "python",
   "nbconvert_exporter": "python",
   "pygments_lexer": "ipython3",
   "version": "3.6.8"
  }
 },
 "nbformat": 4,
 "nbformat_minor": 2
}
